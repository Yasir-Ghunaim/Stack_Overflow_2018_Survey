{
 "cells": [
  {
   "cell_type": "markdown",
   "metadata": {},
   "source": [
    "# Analysis of Stack Overflow 2018 Survey"
   ]
  },
  {
   "cell_type": "markdown",
   "metadata": {},
   "source": [
    "In this project, we will explore some interesting questions about Stack Overflow 2018 survey. The analysis will follow the CRISP-DM process which consists of:\n",
    "\n",
    "- Business Understanding\n",
    "- Data Understanding\n",
    "- Data Preparation\n",
    "- Modeling\n",
    "- Evaluation\n",
    "- Deployment\n"
   ]
  },
  {
   "cell_type": "markdown",
   "metadata": {},
   "source": [
    "# Business Understanding\n",
    "Based on the survey questions, I came up with 3 questions each with a different target audience:\n",
    "1. How do developers evaluate a job opportunity?\n",
    "2. Do developers working in small and large companies have the same career goals?\n",
    "3. Does a developer's age affect how they view AI risks?"
   ]
  },
  {
   "cell_type": "markdown",
   "metadata": {},
   "source": [
    "# Data Understanding\n",
    "This section will be divided into three parts to address our initial 3 questions.\n",
    "\n",
    "#### Part 1: How do developers evaluate a job opportunity?\n",
    "The SO survey contains 10 columns of different criteria for job assessment that participants were asked to rank based on order of importance. Let's have a look at the schema for these columns: \n"
   ]
  },
  {
   "cell_type": "code",
   "execution_count": 2,
   "metadata": {},
   "outputs": [],
   "source": [
    "# First, import libraries\n",
    "import numpy as np\n",
    "import pandas as pd\n",
    "import seaborn as sns\n",
    "import matplotlib.pyplot as plt"
   ]
  },
  {
   "cell_type": "code",
   "execution_count": 3,
   "metadata": {},
   "outputs": [
    {
     "name": "stderr",
     "output_type": "stream",
     "text": [
      "C:\\Anaconda3\\lib\\site-packages\\IPython\\core\\interactiveshell.py:3020: DtypeWarning: Columns (8,12,13,14,15,16,50,51,52,53,55,56,57,58,59,60,61,62,63,64,65,66,67,68,69,70,71,72,73,74,75,76,77,78,79,80,81,82,83,84,85,93,94,95,96,97,98,99,100,101,102,103,104,105,106,107,108,109,110,111,112,113,114,115,116,117,118,119,120,121,122,123,124,125,126,127,128) have mixed types. Specify dtype option on import or set low_memory=False.\n",
      "  interactivity=interactivity, compiler=compiler, result=result)\n"
     ]
    }
   ],
   "source": [
    "# Load data and schema\n",
    "df = pd.read_csv(\"survey_results_public.csv\", delimiter=\",\")\n",
    "schema = pd.read_csv(\"survey_results_schema.csv\", delimiter=\",\")"
   ]
  },
  {
   "cell_type": "code",
   "execution_count": 4,
   "metadata": {},
   "outputs": [
    {
     "data": {
      "text/html": [
       "<div>\n",
       "<style scoped>\n",
       "    .dataframe tbody tr th:only-of-type {\n",
       "        vertical-align: middle;\n",
       "    }\n",
       "\n",
       "    .dataframe tbody tr th {\n",
       "        vertical-align: top;\n",
       "    }\n",
       "\n",
       "    .dataframe thead th {\n",
       "        text-align: right;\n",
       "    }\n",
       "</style>\n",
       "<table border=\"1\" class=\"dataframe\">\n",
       "  <thead>\n",
       "    <tr style=\"text-align: right;\">\n",
       "      <th></th>\n",
       "      <th>Column</th>\n",
       "      <th>QuestionText</th>\n",
       "    </tr>\n",
       "  </thead>\n",
       "  <tbody>\n",
       "    <tr>\n",
       "      <th>17</th>\n",
       "      <td>AssessJob1</td>\n",
       "      <td>Imagine that you are assessing a potential job opportunity. Please rank the following aspects of the job opportunity in order of importance (by dragging the choices up and down), where 1 is the most important and 10 is the least important. The industry that I'd be working in</td>\n",
       "    </tr>\n",
       "    <tr>\n",
       "      <th>18</th>\n",
       "      <td>AssessJob2</td>\n",
       "      <td>Imagine that you are assessing a potential job opportunity. Please rank the following aspects of the job opportunity in order of importance (by dragging the choices up and down), where 1 is the most important and 10 is the least important. The financial performance or funding status of the company or organization</td>\n",
       "    </tr>\n",
       "    <tr>\n",
       "      <th>19</th>\n",
       "      <td>AssessJob3</td>\n",
       "      <td>Imagine that you are assessing a potential job opportunity. Please rank the following aspects of the job opportunity in order of importance (by dragging the choices up and down), where 1 is the most important and 10 is the least important. The specific department or team I'd be working on</td>\n",
       "    </tr>\n",
       "    <tr>\n",
       "      <th>20</th>\n",
       "      <td>AssessJob4</td>\n",
       "      <td>Imagine that you are assessing a potential job opportunity. Please rank the following aspects of the job opportunity in order of importance (by dragging the choices up and down), where 1 is the most important and 10 is the least important. The languages, frameworks, and other technologies I'd be working with</td>\n",
       "    </tr>\n",
       "    <tr>\n",
       "      <th>21</th>\n",
       "      <td>AssessJob5</td>\n",
       "      <td>Imagine that you are assessing a potential job opportunity. Please rank the following aspects of the job opportunity in order of importance (by dragging the choices up and down), where 1 is the most important and 10 is the least important. The compensation and benefits offered</td>\n",
       "    </tr>\n",
       "    <tr>\n",
       "      <th>22</th>\n",
       "      <td>AssessJob6</td>\n",
       "      <td>Imagine that you are assessing a potential job opportunity. Please rank the following aspects of the job opportunity in order of importance (by dragging the choices up and down), where 1 is the most important and 10 is the least important. The office environment or company culture</td>\n",
       "    </tr>\n",
       "    <tr>\n",
       "      <th>23</th>\n",
       "      <td>AssessJob7</td>\n",
       "      <td>Imagine that you are assessing a potential job opportunity. Please rank the following aspects of the job opportunity in order of importance (by dragging the choices up and down), where 1 is the most important and 10 is the least important. The opportunity to work from home/remotely</td>\n",
       "    </tr>\n",
       "    <tr>\n",
       "      <th>24</th>\n",
       "      <td>AssessJob8</td>\n",
       "      <td>Imagine that you are assessing a potential job opportunity. Please rank the following aspects of the job opportunity in order of importance (by dragging the choices up and down), where 1 is the most important and 10 is the least important. Opportunities for professional development</td>\n",
       "    </tr>\n",
       "    <tr>\n",
       "      <th>25</th>\n",
       "      <td>AssessJob9</td>\n",
       "      <td>Imagine that you are assessing a potential job opportunity. Please rank the following aspects of the job opportunity in order of importance (by dragging the choices up and down), where 1 is the most important and 10 is the least important. The diversity of the company or organization</td>\n",
       "    </tr>\n",
       "    <tr>\n",
       "      <th>26</th>\n",
       "      <td>AssessJob10</td>\n",
       "      <td>Imagine that you are assessing a potential job opportunity. Please rank the following aspects of the job opportunity in order of importance (by dragging the choices up and down), where 1 is the most important and 10 is the least important. How widely used or impactful the product or service I'd be working on is</td>\n",
       "    </tr>\n",
       "  </tbody>\n",
       "</table>\n",
       "</div>"
      ],
      "text/plain": [
       "         Column  \\\n",
       "17  AssessJob1    \n",
       "18  AssessJob2    \n",
       "19  AssessJob3    \n",
       "20  AssessJob4    \n",
       "21  AssessJob5    \n",
       "22  AssessJob6    \n",
       "23  AssessJob7    \n",
       "24  AssessJob8    \n",
       "25  AssessJob9    \n",
       "26  AssessJob10   \n",
       "\n",
       "                                                                                                                                                                                                                                                                                                                  QuestionText  \n",
       "17  Imagine that you are assessing a potential job opportunity. Please rank the following aspects of the job opportunity in order of importance (by dragging the choices up and down), where 1 is the most important and 10 is the least important. The industry that I'd be working in                                         \n",
       "18  Imagine that you are assessing a potential job opportunity. Please rank the following aspects of the job opportunity in order of importance (by dragging the choices up and down), where 1 is the most important and 10 is the least important. The financial performance or funding status of the company or organization  \n",
       "19  Imagine that you are assessing a potential job opportunity. Please rank the following aspects of the job opportunity in order of importance (by dragging the choices up and down), where 1 is the most important and 10 is the least important. The specific department or team I'd be working on                           \n",
       "20  Imagine that you are assessing a potential job opportunity. Please rank the following aspects of the job opportunity in order of importance (by dragging the choices up and down), where 1 is the most important and 10 is the least important. The languages, frameworks, and other technologies I'd be working with       \n",
       "21  Imagine that you are assessing a potential job opportunity. Please rank the following aspects of the job opportunity in order of importance (by dragging the choices up and down), where 1 is the most important and 10 is the least important. The compensation and benefits offered                                       \n",
       "22  Imagine that you are assessing a potential job opportunity. Please rank the following aspects of the job opportunity in order of importance (by dragging the choices up and down), where 1 is the most important and 10 is the least important. The office environment or company culture                                   \n",
       "23  Imagine that you are assessing a potential job opportunity. Please rank the following aspects of the job opportunity in order of importance (by dragging the choices up and down), where 1 is the most important and 10 is the least important. The opportunity to work from home/remotely                                  \n",
       "24  Imagine that you are assessing a potential job opportunity. Please rank the following aspects of the job opportunity in order of importance (by dragging the choices up and down), where 1 is the most important and 10 is the least important. Opportunities for professional development                                  \n",
       "25  Imagine that you are assessing a potential job opportunity. Please rank the following aspects of the job opportunity in order of importance (by dragging the choices up and down), where 1 is the most important and 10 is the least important. The diversity of the company or organization                                \n",
       "26  Imagine that you are assessing a potential job opportunity. Please rank the following aspects of the job opportunity in order of importance (by dragging the choices up and down), where 1 is the most important and 10 is the least important. How widely used or impactful the product or service I'd be working on is    "
      ]
     },
     "execution_count": 4,
     "metadata": {},
     "output_type": "execute_result"
    }
   ],
   "source": [
    "# Explore the definition of the 10 columns for evaluating job opportunities\n",
    "pd.set_option('display.max_colwidth', -1)\n",
    "schema[(schema.Column == \"AssessJob1\") | (schema.Column == \"AssessJob2\") | (schema.Column == \"AssessJob3\") |\n",
    "       (schema.Column == \"AssessJob4\") | (schema.Column == \"AssessJob5\") | (schema.Column == \"AssessJob6\") |\n",
    "       (schema.Column == \"AssessJob7\") | (schema.Column == \"AssessJob8\") | (schema.Column == \"AssessJob9\") |\n",
    "       (schema.Column == \"AssessJob10\")]"
   ]
  },
  {
   "cell_type": "markdown",
   "metadata": {},
   "source": [
    "These 10 variables have similar names so it would be much easier to create a function that returns their names instead of manually typing them."
   ]
  },
  {
   "cell_type": "code",
   "execution_count": 5,
   "metadata": {},
   "outputs": [],
   "source": [
    "def getIncrementedColumnNames(name, count):\n",
    "    '''\n",
    "    INPUT - name - string - variable base name \n",
    "            count - int - number of variable names to be created\n",
    "    OUTPUT - \n",
    "            variableNameList - string array - incremented list of the passed variable name \n",
    "    EXAMPLE -\n",
    "    getRankColumnNames(\"Test\", 5) will return this list:\n",
    "    [\"Test1\", \"Test2\", \"Test3\", \"Test4\", \"Test5\"]\n",
    "    '''\n",
    "    columns = []\n",
    "    for i in range(1, count + 1):\n",
    "        columns.append(name + str(i))\n",
    "    return columns"
   ]
  },
  {
   "cell_type": "code",
   "execution_count": 6,
   "metadata": {},
   "outputs": [
    {
     "data": {
      "text/plain": [
       "['AssessJob1',\n",
       " 'AssessJob2',\n",
       " 'AssessJob3',\n",
       " 'AssessJob4',\n",
       " 'AssessJob5',\n",
       " 'AssessJob6',\n",
       " 'AssessJob7',\n",
       " 'AssessJob8',\n",
       " 'AssessJob9',\n",
       " 'AssessJob10']"
      ]
     },
     "execution_count": 6,
     "metadata": {},
     "output_type": "execute_result"
    }
   ],
   "source": [
    "assessJobColumns = getIncrementedColumnNames(\"AssessJob\", 10)\n",
    "assessJobColumns"
   ]
  },
  {
   "cell_type": "code",
   "execution_count": 7,
   "metadata": {},
   "outputs": [
    {
     "data": {
      "text/html": [
       "<div>\n",
       "<style scoped>\n",
       "    .dataframe tbody tr th:only-of-type {\n",
       "        vertical-align: middle;\n",
       "    }\n",
       "\n",
       "    .dataframe tbody tr th {\n",
       "        vertical-align: top;\n",
       "    }\n",
       "\n",
       "    .dataframe thead th {\n",
       "        text-align: right;\n",
       "    }\n",
       "</style>\n",
       "<table border=\"1\" class=\"dataframe\">\n",
       "  <thead>\n",
       "    <tr style=\"text-align: right;\">\n",
       "      <th></th>\n",
       "      <th>AssessJob1</th>\n",
       "      <th>AssessJob2</th>\n",
       "      <th>AssessJob3</th>\n",
       "      <th>AssessJob4</th>\n",
       "      <th>AssessJob5</th>\n",
       "      <th>AssessJob6</th>\n",
       "      <th>AssessJob7</th>\n",
       "      <th>AssessJob8</th>\n",
       "      <th>AssessJob9</th>\n",
       "      <th>AssessJob10</th>\n",
       "    </tr>\n",
       "  </thead>\n",
       "  <tbody>\n",
       "    <tr>\n",
       "      <th>0</th>\n",
       "      <td>10.0</td>\n",
       "      <td>7.0</td>\n",
       "      <td>8.0</td>\n",
       "      <td>1.0</td>\n",
       "      <td>2.0</td>\n",
       "      <td>5.0</td>\n",
       "      <td>3.0</td>\n",
       "      <td>4.0</td>\n",
       "      <td>9.0</td>\n",
       "      <td>6.0</td>\n",
       "    </tr>\n",
       "    <tr>\n",
       "      <th>1</th>\n",
       "      <td>1.0</td>\n",
       "      <td>7.0</td>\n",
       "      <td>10.0</td>\n",
       "      <td>8.0</td>\n",
       "      <td>2.0</td>\n",
       "      <td>5.0</td>\n",
       "      <td>4.0</td>\n",
       "      <td>3.0</td>\n",
       "      <td>6.0</td>\n",
       "      <td>9.0</td>\n",
       "    </tr>\n",
       "    <tr>\n",
       "      <th>2</th>\n",
       "      <td>NaN</td>\n",
       "      <td>NaN</td>\n",
       "      <td>NaN</td>\n",
       "      <td>NaN</td>\n",
       "      <td>NaN</td>\n",
       "      <td>NaN</td>\n",
       "      <td>NaN</td>\n",
       "      <td>NaN</td>\n",
       "      <td>NaN</td>\n",
       "      <td>NaN</td>\n",
       "    </tr>\n",
       "    <tr>\n",
       "      <th>3</th>\n",
       "      <td>NaN</td>\n",
       "      <td>NaN</td>\n",
       "      <td>NaN</td>\n",
       "      <td>NaN</td>\n",
       "      <td>NaN</td>\n",
       "      <td>NaN</td>\n",
       "      <td>NaN</td>\n",
       "      <td>NaN</td>\n",
       "      <td>NaN</td>\n",
       "      <td>NaN</td>\n",
       "    </tr>\n",
       "    <tr>\n",
       "      <th>4</th>\n",
       "      <td>8.0</td>\n",
       "      <td>5.0</td>\n",
       "      <td>7.0</td>\n",
       "      <td>1.0</td>\n",
       "      <td>2.0</td>\n",
       "      <td>6.0</td>\n",
       "      <td>4.0</td>\n",
       "      <td>3.0</td>\n",
       "      <td>10.0</td>\n",
       "      <td>9.0</td>\n",
       "    </tr>\n",
       "  </tbody>\n",
       "</table>\n",
       "</div>"
      ],
      "text/plain": [
       "   AssessJob1  AssessJob2  AssessJob3  AssessJob4  AssessJob5  AssessJob6  \\\n",
       "0  10.0        7.0         8.0         1.0         2.0         5.0          \n",
       "1  1.0         7.0         10.0        8.0         2.0         5.0          \n",
       "2 NaN         NaN         NaN         NaN         NaN         NaN           \n",
       "3 NaN         NaN         NaN         NaN         NaN         NaN           \n",
       "4  8.0         5.0         7.0         1.0         2.0         6.0          \n",
       "\n",
       "   AssessJob7  AssessJob8  AssessJob9  AssessJob10  \n",
       "0  3.0         4.0         9.0         6.0          \n",
       "1  4.0         3.0         6.0         9.0          \n",
       "2 NaN         NaN         NaN         NaN           \n",
       "3 NaN         NaN         NaN         NaN           \n",
       "4  4.0         3.0         10.0        9.0          "
      ]
     },
     "execution_count": 7,
     "metadata": {},
     "output_type": "execute_result"
    }
   ],
   "source": [
    "# Time to explore\n",
    "df[assessJobColumns].head()"
   ]
  },
  {
   "cell_type": "code",
   "execution_count": 8,
   "metadata": {},
   "outputs": [
    {
     "data": {
      "text/html": [
       "<div>\n",
       "<style scoped>\n",
       "    .dataframe tbody tr th:only-of-type {\n",
       "        vertical-align: middle;\n",
       "    }\n",
       "\n",
       "    .dataframe tbody tr th {\n",
       "        vertical-align: top;\n",
       "    }\n",
       "\n",
       "    .dataframe thead th {\n",
       "        text-align: right;\n",
       "    }\n",
       "</style>\n",
       "<table border=\"1\" class=\"dataframe\">\n",
       "  <thead>\n",
       "    <tr style=\"text-align: right;\">\n",
       "      <th></th>\n",
       "      <th>AssessJob1</th>\n",
       "      <th>AssessJob2</th>\n",
       "      <th>AssessJob3</th>\n",
       "      <th>AssessJob4</th>\n",
       "      <th>AssessJob5</th>\n",
       "      <th>AssessJob6</th>\n",
       "      <th>AssessJob7</th>\n",
       "      <th>AssessJob8</th>\n",
       "      <th>AssessJob9</th>\n",
       "      <th>AssessJob10</th>\n",
       "    </tr>\n",
       "  </thead>\n",
       "  <tbody>\n",
       "    <tr>\n",
       "      <th>count</th>\n",
       "      <td>66985.000000</td>\n",
       "      <td>66985.000000</td>\n",
       "      <td>66985.000000</td>\n",
       "      <td>66985.000000</td>\n",
       "      <td>66985.000000</td>\n",
       "      <td>66985.000000</td>\n",
       "      <td>66985.000000</td>\n",
       "      <td>66985.000000</td>\n",
       "      <td>66985.000000</td>\n",
       "      <td>66985.000000</td>\n",
       "    </tr>\n",
       "    <tr>\n",
       "      <th>mean</th>\n",
       "      <td>6.397089</td>\n",
       "      <td>6.673524</td>\n",
       "      <td>5.906875</td>\n",
       "      <td>4.065791</td>\n",
       "      <td>3.953243</td>\n",
       "      <td>4.407196</td>\n",
       "      <td>5.673181</td>\n",
       "      <td>4.225200</td>\n",
       "      <td>7.640009</td>\n",
       "      <td>6.057804</td>\n",
       "    </tr>\n",
       "    <tr>\n",
       "      <th>std</th>\n",
       "      <td>2.788428</td>\n",
       "      <td>2.531202</td>\n",
       "      <td>2.642734</td>\n",
       "      <td>2.541196</td>\n",
       "      <td>2.520499</td>\n",
       "      <td>2.502069</td>\n",
       "      <td>2.923998</td>\n",
       "      <td>2.507411</td>\n",
       "      <td>2.407457</td>\n",
       "      <td>2.663405</td>\n",
       "    </tr>\n",
       "    <tr>\n",
       "      <th>min</th>\n",
       "      <td>1.000000</td>\n",
       "      <td>1.000000</td>\n",
       "      <td>1.000000</td>\n",
       "      <td>1.000000</td>\n",
       "      <td>1.000000</td>\n",
       "      <td>1.000000</td>\n",
       "      <td>1.000000</td>\n",
       "      <td>1.000000</td>\n",
       "      <td>1.000000</td>\n",
       "      <td>1.000000</td>\n",
       "    </tr>\n",
       "    <tr>\n",
       "      <th>25%</th>\n",
       "      <td>4.000000</td>\n",
       "      <td>5.000000</td>\n",
       "      <td>4.000000</td>\n",
       "      <td>2.000000</td>\n",
       "      <td>2.000000</td>\n",
       "      <td>2.000000</td>\n",
       "      <td>3.000000</td>\n",
       "      <td>2.000000</td>\n",
       "      <td>6.000000</td>\n",
       "      <td>4.000000</td>\n",
       "    </tr>\n",
       "    <tr>\n",
       "      <th>50%</th>\n",
       "      <td>7.000000</td>\n",
       "      <td>7.000000</td>\n",
       "      <td>6.000000</td>\n",
       "      <td>4.000000</td>\n",
       "      <td>3.000000</td>\n",
       "      <td>4.000000</td>\n",
       "      <td>6.000000</td>\n",
       "      <td>4.000000</td>\n",
       "      <td>8.000000</td>\n",
       "      <td>6.000000</td>\n",
       "    </tr>\n",
       "    <tr>\n",
       "      <th>75%</th>\n",
       "      <td>9.000000</td>\n",
       "      <td>9.000000</td>\n",
       "      <td>8.000000</td>\n",
       "      <td>6.000000</td>\n",
       "      <td>6.000000</td>\n",
       "      <td>6.000000</td>\n",
       "      <td>8.000000</td>\n",
       "      <td>6.000000</td>\n",
       "      <td>10.000000</td>\n",
       "      <td>8.000000</td>\n",
       "    </tr>\n",
       "    <tr>\n",
       "      <th>max</th>\n",
       "      <td>10.000000</td>\n",
       "      <td>10.000000</td>\n",
       "      <td>10.000000</td>\n",
       "      <td>10.000000</td>\n",
       "      <td>10.000000</td>\n",
       "      <td>10.000000</td>\n",
       "      <td>10.000000</td>\n",
       "      <td>10.000000</td>\n",
       "      <td>10.000000</td>\n",
       "      <td>10.000000</td>\n",
       "    </tr>\n",
       "  </tbody>\n",
       "</table>\n",
       "</div>"
      ],
      "text/plain": [
       "         AssessJob1    AssessJob2    AssessJob3    AssessJob4    AssessJob5  \\\n",
       "count  66985.000000  66985.000000  66985.000000  66985.000000  66985.000000   \n",
       "mean   6.397089      6.673524      5.906875      4.065791      3.953243       \n",
       "std    2.788428      2.531202      2.642734      2.541196      2.520499       \n",
       "min    1.000000      1.000000      1.000000      1.000000      1.000000       \n",
       "25%    4.000000      5.000000      4.000000      2.000000      2.000000       \n",
       "50%    7.000000      7.000000      6.000000      4.000000      3.000000       \n",
       "75%    9.000000      9.000000      8.000000      6.000000      6.000000       \n",
       "max    10.000000     10.000000     10.000000     10.000000     10.000000      \n",
       "\n",
       "         AssessJob6    AssessJob7    AssessJob8    AssessJob9   AssessJob10  \n",
       "count  66985.000000  66985.000000  66985.000000  66985.000000  66985.000000  \n",
       "mean   4.407196      5.673181      4.225200      7.640009      6.057804      \n",
       "std    2.502069      2.923998      2.507411      2.407457      2.663405      \n",
       "min    1.000000      1.000000      1.000000      1.000000      1.000000      \n",
       "25%    2.000000      3.000000      2.000000      6.000000      4.000000      \n",
       "50%    4.000000      6.000000      4.000000      8.000000      6.000000      \n",
       "75%    6.000000      8.000000      6.000000      10.000000     8.000000      \n",
       "max    10.000000     10.000000     10.000000     10.000000     10.000000     "
      ]
     },
     "execution_count": 8,
     "metadata": {},
     "output_type": "execute_result"
    }
   ],
   "source": [
    "df[assessJobColumns].describe()"
   ]
  },
  {
   "cell_type": "markdown",
   "metadata": {},
   "source": [
    "Even though we observe some missing values, since all 10 variables have the same count we wouldn't have to deal with missing values. Having the same count implies that for any row either all values are missing at the same time or all are valid.  "
   ]
  },
  {
   "cell_type": "markdown",
   "metadata": {},
   "source": [
    "#### Part 2: Do developers working in small and large companies have the same career goals?"
   ]
  },
  {
   "cell_type": "code",
   "execution_count": 23,
   "metadata": {},
   "outputs": [
    {
     "data": {
      "text/html": [
       "<div>\n",
       "<style scoped>\n",
       "    .dataframe tbody tr th:only-of-type {\n",
       "        vertical-align: middle;\n",
       "    }\n",
       "\n",
       "    .dataframe tbody tr th {\n",
       "        vertical-align: top;\n",
       "    }\n",
       "\n",
       "    .dataframe thead th {\n",
       "        text-align: right;\n",
       "    }\n",
       "</style>\n",
       "<table border=\"1\" class=\"dataframe\">\n",
       "  <thead>\n",
       "    <tr style=\"text-align: right;\">\n",
       "      <th></th>\n",
       "      <th>HopeFiveYears</th>\n",
       "      <th>CompanySize</th>\n",
       "    </tr>\n",
       "  </thead>\n",
       "  <tbody>\n",
       "    <tr>\n",
       "      <th>count</th>\n",
       "      <td>75718</td>\n",
       "      <td>71531</td>\n",
       "    </tr>\n",
       "    <tr>\n",
       "      <th>unique</th>\n",
       "      <td>7</td>\n",
       "      <td>8</td>\n",
       "    </tr>\n",
       "    <tr>\n",
       "      <th>top</th>\n",
       "      <td>Working in a different or more specialized technical role than the one I'm in now</td>\n",
       "      <td>20 to 99 employees</td>\n",
       "    </tr>\n",
       "    <tr>\n",
       "      <th>freq</th>\n",
       "      <td>25643</td>\n",
       "      <td>16996</td>\n",
       "    </tr>\n",
       "  </tbody>\n",
       "</table>\n",
       "</div>"
      ],
      "text/plain": [
       "                                                                            HopeFiveYears  \\\n",
       "count   75718                                                                               \n",
       "unique  7                                                                                   \n",
       "top     Working in a different or more specialized technical role than the one I'm in now   \n",
       "freq    25643                                                                               \n",
       "\n",
       "               CompanySize  \n",
       "count   71531               \n",
       "unique  8                   \n",
       "top     20 to 99 employees  \n",
       "freq    16996               "
      ]
     },
     "execution_count": 23,
     "metadata": {},
     "output_type": "execute_result"
    }
   ],
   "source": [
    "df[['HopeFiveYears', 'CompanySize']].describe()"
   ]
  },
  {
   "cell_type": "code",
   "execution_count": 11,
   "metadata": {},
   "outputs": [
    {
     "data": {
      "text/plain": [
       "Working in a different or more specialized technical role than the one I'm in now    25643\n",
       "Working as a founder or co-founder of my own company                                 19444\n",
       "Doing the same work                                                                  14724\n",
       "Working as an engineering manager or other functional manager                        7483 \n",
       "Working as a product manager or project manager                                      5004 \n",
       "Working in a career completely unrelated to software development                     2151 \n",
       "Retirement                                                                           1269 \n",
       "Name: HopeFiveYears, dtype: int64"
      ]
     },
     "execution_count": 11,
     "metadata": {},
     "output_type": "execute_result"
    }
   ],
   "source": [
    "df['HopeFiveYears'].value_counts()"
   ]
  },
  {
   "cell_type": "code",
   "execution_count": 12,
   "metadata": {},
   "outputs": [
    {
     "data": {
      "text/plain": [
       "20 to 99 employees          16996\n",
       "100 to 499 employees        14011\n",
       "10,000 or more employees    9757 \n",
       "10 to 19 employees          8007 \n",
       "1,000 to 4,999 employees    7634 \n",
       "Fewer than 10 employees     7479 \n",
       "500 to 999 employees        4630 \n",
       "5,000 to 9,999 employees    3017 \n",
       "Name: CompanySize, dtype: int64"
      ]
     },
     "execution_count": 12,
     "metadata": {},
     "output_type": "execute_result"
    }
   ],
   "source": [
    "df['CompanySize'].value_counts()"
   ]
  },
  {
   "cell_type": "markdown",
   "metadata": {},
   "source": [
    "Both variables we are interested in are categorical. In the next section, we would need to map these values to shorter labels for better readability."
   ]
  },
  {
   "cell_type": "markdown",
   "metadata": {},
   "source": [
    "#### Part 3: Does a developer's age affect how they view AI risks?"
   ]
  },
  {
   "cell_type": "code",
   "execution_count": 24,
   "metadata": {},
   "outputs": [
    {
     "data": {
      "text/html": [
       "<div>\n",
       "<style scoped>\n",
       "    .dataframe tbody tr th:only-of-type {\n",
       "        vertical-align: middle;\n",
       "    }\n",
       "\n",
       "    .dataframe tbody tr th {\n",
       "        vertical-align: top;\n",
       "    }\n",
       "\n",
       "    .dataframe thead th {\n",
       "        text-align: right;\n",
       "    }\n",
       "</style>\n",
       "<table border=\"1\" class=\"dataframe\">\n",
       "  <thead>\n",
       "    <tr style=\"text-align: right;\">\n",
       "      <th></th>\n",
       "      <th>Age</th>\n",
       "      <th>AIDangerous</th>\n",
       "    </tr>\n",
       "  </thead>\n",
       "  <tbody>\n",
       "    <tr>\n",
       "      <th>count</th>\n",
       "      <td>64574</td>\n",
       "      <td>63115</td>\n",
       "    </tr>\n",
       "    <tr>\n",
       "      <th>unique</th>\n",
       "      <td>7</td>\n",
       "      <td>4</td>\n",
       "    </tr>\n",
       "    <tr>\n",
       "      <th>top</th>\n",
       "      <td>25 - 34 years old</td>\n",
       "      <td>Algorithms making important decisions</td>\n",
       "    </tr>\n",
       "    <tr>\n",
       "      <th>freq</th>\n",
       "      <td>31759</td>\n",
       "      <td>18020</td>\n",
       "    </tr>\n",
       "  </tbody>\n",
       "</table>\n",
       "</div>"
      ],
      "text/plain": [
       "                      Age                            AIDangerous\n",
       "count   64574              63115                                \n",
       "unique  7                  4                                    \n",
       "top     25 - 34 years old  Algorithms making important decisions\n",
       "freq    31759              18020                                "
      ]
     },
     "execution_count": 24,
     "metadata": {},
     "output_type": "execute_result"
    }
   ],
   "source": [
    "df[['Age', 'AIDangerous']].describe()"
   ]
  },
  {
   "cell_type": "code",
   "execution_count": 25,
   "metadata": {},
   "outputs": [
    {
     "data": {
      "text/plain": [
       "25 - 34 years old     31759\n",
       "18 - 24 years old     15249\n",
       "35 - 44 years old     11477\n",
       "45 - 54 years old     3313 \n",
       "Under 18 years old    1638 \n",
       "55 - 64 years old     959  \n",
       "65 years or older     179  \n",
       "Name: Age, dtype: int64"
      ]
     },
     "execution_count": 25,
     "metadata": {},
     "output_type": "execute_result"
    }
   ],
   "source": [
    "df['Age'].value_counts()"
   ]
  },
  {
   "cell_type": "code",
   "execution_count": 26,
   "metadata": {},
   "outputs": [
    {
     "data": {
      "text/plain": [
       "Algorithms making important decisions                                        18020\n",
       "Artificial intelligence surpassing human intelligence (\"the singularity\")    17645\n",
       "Evolving definitions of \"fairness\" in algorithmic versus human decisions     14958\n",
       "Increasing automation of jobs                                                12492\n",
       "Name: AIDangerous, dtype: int64"
      ]
     },
     "execution_count": 26,
     "metadata": {},
     "output_type": "execute_result"
    }
   ],
   "source": [
    "df['AIDangerous'].value_counts()"
   ]
  },
  {
   "cell_type": "markdown",
   "metadata": {},
   "source": [
    "As discussed in Part 2, we need to map these values to easier labels."
   ]
  },
  {
   "cell_type": "markdown",
   "metadata": {},
   "source": [
    "# Data Preparation\n",
    "Part 1 data are almost ready, we will only need to define a label index for the 10 columns. Similarly for Part 2 & 3, we will define a dictionary for mapping values with new labels."
   ]
  },
  {
   "cell_type": "markdown",
   "metadata": {},
   "source": [
    "#### Part 1"
   ]
  },
  {
   "cell_type": "code",
   "execution_count": 61,
   "metadata": {},
   "outputs": [
    {
     "data": {
      "text/html": [
       "<div>\n",
       "<style scoped>\n",
       "    .dataframe tbody tr th:only-of-type {\n",
       "        vertical-align: middle;\n",
       "    }\n",
       "\n",
       "    .dataframe tbody tr th {\n",
       "        vertical-align: top;\n",
       "    }\n",
       "\n",
       "    .dataframe thead th {\n",
       "        text-align: right;\n",
       "    }\n",
       "</style>\n",
       "<table border=\"1\" class=\"dataframe\">\n",
       "  <thead>\n",
       "    <tr style=\"text-align: right;\">\n",
       "      <th></th>\n",
       "      <th>AssessJob1</th>\n",
       "      <th>AssessJob2</th>\n",
       "      <th>AssessJob3</th>\n",
       "      <th>AssessJob4</th>\n",
       "      <th>AssessJob5</th>\n",
       "      <th>AssessJob6</th>\n",
       "      <th>AssessJob7</th>\n",
       "      <th>AssessJob8</th>\n",
       "      <th>AssessJob9</th>\n",
       "      <th>AssessJob10</th>\n",
       "    </tr>\n",
       "  </thead>\n",
       "  <tbody>\n",
       "    <tr>\n",
       "      <th>0</th>\n",
       "      <td>10.0</td>\n",
       "      <td>7.0</td>\n",
       "      <td>8.0</td>\n",
       "      <td>1.0</td>\n",
       "      <td>2.0</td>\n",
       "      <td>5.0</td>\n",
       "      <td>3.0</td>\n",
       "      <td>4.0</td>\n",
       "      <td>9.0</td>\n",
       "      <td>6.0</td>\n",
       "    </tr>\n",
       "    <tr>\n",
       "      <th>1</th>\n",
       "      <td>1.0</td>\n",
       "      <td>7.0</td>\n",
       "      <td>10.0</td>\n",
       "      <td>8.0</td>\n",
       "      <td>2.0</td>\n",
       "      <td>5.0</td>\n",
       "      <td>4.0</td>\n",
       "      <td>3.0</td>\n",
       "      <td>6.0</td>\n",
       "      <td>9.0</td>\n",
       "    </tr>\n",
       "    <tr>\n",
       "      <th>2</th>\n",
       "      <td>NaN</td>\n",
       "      <td>NaN</td>\n",
       "      <td>NaN</td>\n",
       "      <td>NaN</td>\n",
       "      <td>NaN</td>\n",
       "      <td>NaN</td>\n",
       "      <td>NaN</td>\n",
       "      <td>NaN</td>\n",
       "      <td>NaN</td>\n",
       "      <td>NaN</td>\n",
       "    </tr>\n",
       "    <tr>\n",
       "      <th>3</th>\n",
       "      <td>NaN</td>\n",
       "      <td>NaN</td>\n",
       "      <td>NaN</td>\n",
       "      <td>NaN</td>\n",
       "      <td>NaN</td>\n",
       "      <td>NaN</td>\n",
       "      <td>NaN</td>\n",
       "      <td>NaN</td>\n",
       "      <td>NaN</td>\n",
       "      <td>NaN</td>\n",
       "    </tr>\n",
       "    <tr>\n",
       "      <th>4</th>\n",
       "      <td>8.0</td>\n",
       "      <td>5.0</td>\n",
       "      <td>7.0</td>\n",
       "      <td>1.0</td>\n",
       "      <td>2.0</td>\n",
       "      <td>6.0</td>\n",
       "      <td>4.0</td>\n",
       "      <td>3.0</td>\n",
       "      <td>10.0</td>\n",
       "      <td>9.0</td>\n",
       "    </tr>\n",
       "  </tbody>\n",
       "</table>\n",
       "</div>"
      ],
      "text/plain": [
       "   AssessJob1  AssessJob2  AssessJob3  AssessJob4  AssessJob5  AssessJob6  \\\n",
       "0  10.0        7.0         8.0         1.0         2.0         5.0          \n",
       "1  1.0         7.0         10.0        8.0         2.0         5.0          \n",
       "2 NaN         NaN         NaN         NaN         NaN         NaN           \n",
       "3 NaN         NaN         NaN         NaN         NaN         NaN           \n",
       "4  8.0         5.0         7.0         1.0         2.0         6.0          \n",
       "\n",
       "   AssessJob7  AssessJob8  AssessJob9  AssessJob10  \n",
       "0  3.0         4.0         9.0         6.0          \n",
       "1  4.0         3.0         6.0         9.0          \n",
       "2 NaN         NaN         NaN         NaN           \n",
       "3 NaN         NaN         NaN         NaN           \n",
       "4  4.0         3.0         10.0        9.0          "
      ]
     },
     "execution_count": 61,
     "metadata": {},
     "output_type": "execute_result"
    }
   ],
   "source": [
    "# See columns before labeling\n",
    "df[assessJobColumns].head()"
   ]
  },
  {
   "cell_type": "code",
   "execution_count": 62,
   "metadata": {},
   "outputs": [],
   "source": [
    "jobSelectionColumns = ['Industry', 'Company Financial', 'Department or Team', 'Framework/Technologies', 'Compensation/Benefits', 'Company Culture', 'Working Remotely', 'Professional Development', 'Diversity', 'Product Impact'] \n",
    "jobDf = df[assessJobColumns].set_axis(jobSelectionColumns, axis=1, inplace=False)"
   ]
  },
  {
   "cell_type": "code",
   "execution_count": 63,
   "metadata": {},
   "outputs": [
    {
     "data": {
      "text/html": [
       "<div>\n",
       "<style scoped>\n",
       "    .dataframe tbody tr th:only-of-type {\n",
       "        vertical-align: middle;\n",
       "    }\n",
       "\n",
       "    .dataframe tbody tr th {\n",
       "        vertical-align: top;\n",
       "    }\n",
       "\n",
       "    .dataframe thead th {\n",
       "        text-align: right;\n",
       "    }\n",
       "</style>\n",
       "<table border=\"1\" class=\"dataframe\">\n",
       "  <thead>\n",
       "    <tr style=\"text-align: right;\">\n",
       "      <th></th>\n",
       "      <th>Industry</th>\n",
       "      <th>Company Financial</th>\n",
       "      <th>Department or Team</th>\n",
       "      <th>Framework/Technologies</th>\n",
       "      <th>Compensation/Benefits</th>\n",
       "      <th>Company Culture</th>\n",
       "      <th>Working Remotely</th>\n",
       "      <th>Professional Development</th>\n",
       "      <th>Diversity</th>\n",
       "      <th>Product Impact</th>\n",
       "    </tr>\n",
       "  </thead>\n",
       "  <tbody>\n",
       "    <tr>\n",
       "      <th>0</th>\n",
       "      <td>10.0</td>\n",
       "      <td>7.0</td>\n",
       "      <td>8.0</td>\n",
       "      <td>1.0</td>\n",
       "      <td>2.0</td>\n",
       "      <td>5.0</td>\n",
       "      <td>3.0</td>\n",
       "      <td>4.0</td>\n",
       "      <td>9.0</td>\n",
       "      <td>6.0</td>\n",
       "    </tr>\n",
       "    <tr>\n",
       "      <th>1</th>\n",
       "      <td>1.0</td>\n",
       "      <td>7.0</td>\n",
       "      <td>10.0</td>\n",
       "      <td>8.0</td>\n",
       "      <td>2.0</td>\n",
       "      <td>5.0</td>\n",
       "      <td>4.0</td>\n",
       "      <td>3.0</td>\n",
       "      <td>6.0</td>\n",
       "      <td>9.0</td>\n",
       "    </tr>\n",
       "    <tr>\n",
       "      <th>2</th>\n",
       "      <td>NaN</td>\n",
       "      <td>NaN</td>\n",
       "      <td>NaN</td>\n",
       "      <td>NaN</td>\n",
       "      <td>NaN</td>\n",
       "      <td>NaN</td>\n",
       "      <td>NaN</td>\n",
       "      <td>NaN</td>\n",
       "      <td>NaN</td>\n",
       "      <td>NaN</td>\n",
       "    </tr>\n",
       "    <tr>\n",
       "      <th>3</th>\n",
       "      <td>NaN</td>\n",
       "      <td>NaN</td>\n",
       "      <td>NaN</td>\n",
       "      <td>NaN</td>\n",
       "      <td>NaN</td>\n",
       "      <td>NaN</td>\n",
       "      <td>NaN</td>\n",
       "      <td>NaN</td>\n",
       "      <td>NaN</td>\n",
       "      <td>NaN</td>\n",
       "    </tr>\n",
       "    <tr>\n",
       "      <th>4</th>\n",
       "      <td>8.0</td>\n",
       "      <td>5.0</td>\n",
       "      <td>7.0</td>\n",
       "      <td>1.0</td>\n",
       "      <td>2.0</td>\n",
       "      <td>6.0</td>\n",
       "      <td>4.0</td>\n",
       "      <td>3.0</td>\n",
       "      <td>10.0</td>\n",
       "      <td>9.0</td>\n",
       "    </tr>\n",
       "  </tbody>\n",
       "</table>\n",
       "</div>"
      ],
      "text/plain": [
       "   Industry  Company Financial  Department or Team  Framework/Technologies  \\\n",
       "0  10.0      7.0                8.0                 1.0                      \n",
       "1  1.0       7.0                10.0                8.0                      \n",
       "2 NaN       NaN                NaN                 NaN                       \n",
       "3 NaN       NaN                NaN                 NaN                       \n",
       "4  8.0       5.0                7.0                 1.0                      \n",
       "\n",
       "   Compensation/Benefits  Company Culture  Working Remotely  \\\n",
       "0  2.0                    5.0              3.0                \n",
       "1  2.0                    5.0              4.0                \n",
       "2 NaN                    NaN              NaN                 \n",
       "3 NaN                    NaN              NaN                 \n",
       "4  2.0                    6.0              4.0                \n",
       "\n",
       "   Professional Development  Diversity  Product Impact  \n",
       "0  4.0                       9.0        6.0             \n",
       "1  3.0                       6.0        9.0             \n",
       "2 NaN                       NaN        NaN              \n",
       "3 NaN                       NaN        NaN              \n",
       "4  3.0                       10.0       9.0             "
      ]
     },
     "execution_count": 63,
     "metadata": {},
     "output_type": "execute_result"
    }
   ],
   "source": [
    "# After labeling\n",
    "jobDf.head()"
   ]
  },
  {
   "cell_type": "markdown",
   "metadata": {},
   "source": [
    "#### Part 2"
   ]
  },
  {
   "cell_type": "code",
   "execution_count": 75,
   "metadata": {},
   "outputs": [],
   "source": [
    "HopeDf = df.copy()\n",
    "\n",
    "# Rename \"HopeFiveYears\" and \"CompanySize\" values to make them shorter\n",
    "hopeFiveYearsNewValues = {\"Working as a founder or co-founder of my own company\": \"Becoming a Founder/CEO\",\n",
    "\"Working in a different or more specialized technical role than the one I'm in now\": \"Working in different/more technical role\",\n",
    "\"Doing the same work\": \"Doing same work\",\n",
    "\"Working as a product manager or project manager\": \"Becoming a product/project manager\",\n",
    "\"Working as an engineering manager or other functional manager\": \"Becoming an engineering manager\",\n",
    "\"Working in a career completely unrelated to software development\": \"Changing career\",\n",
    "\"Retirement\": \"Retirement\"}\n",
    "companySizeNewValues = {\"Fewer than 10 employees\": \"<10\",\n",
    "\"10 to 19 employees\": \"10-19\",\n",
    "\"20 to 99 employees\": \"20-99\",\n",
    "\"100 to 499 employees\": \"100-499\",\n",
    "\"500 to 999 employees\": \"500-999\",\n",
    "\"1,000 to 4,999 employees\": \"1000-4999\",\n",
    "\"5,000 to 9,999 employees\": \"5000-9999\",\n",
    "\"10,000 or more employees\": \">10000\"}\n",
    "\n",
    "HopeDf['HopeFiveYears'] = HopeDf['HopeFiveYears'].map(hopeFiveYearsNewValues)\n",
    "HopeDf['CompanySize'] = HopeDf['CompanySize'].map(companySizeNewValues)\n",
    "\n",
    "# Force a custom order for the CompanySize column. Otherwise, results will be sorted alphabetically \n",
    "HopeDf['CompanySize'] = pd.Categorical(HopeDf['CompanySize'], categories=\n",
    "    ['<10', '10-19', '20-99', '100-499', '500-999', '1000-4999', '5000-9999', '>10000'],\n",
    "    ordered=True)"
   ]
  },
  {
   "cell_type": "markdown",
   "metadata": {},
   "source": [
    "#### Part 3"
   ]
  },
  {
   "cell_type": "code",
   "execution_count": 65,
   "metadata": {},
   "outputs": [],
   "source": [
    "AIDf = df.copy()\n",
    "\n",
    "# Rename \"age\" and \"AIDangerous\" values to make them shorter\n",
    "AIDangerousNewValues = {\"Artificial intelligence surpassing human intelligence (\\\"the singularity\\\")\": \"The Singularity\",\n",
    "\"Evolving definitions of \\\"fairness\\\" in algorithmic versus human decisions\": \"Fairness\",\n",
    "\"Algorithms making important decisions\": \"Decision Making\",\n",
    "\"Increasing automation of jobs\": \"Automation\"}\n",
    "ageNewValues = {\"Under 18 years old\": \" (<18)\",\n",
    "\"18 - 24 years old\": \"(18-24)\",\n",
    "\"25 - 34 years old\": \"(25-34)\",\n",
    "\"35 - 44 years old\": \"(35-44)\",\n",
    "\"45 - 54 years old\": \"(45-54)\",\n",
    "\"55 - 64 years old\": \"(55-64)\",\n",
    "\"65 years or older\": \"(>65)\"}\n",
    "\n",
    "AIDf['AIDangerous'] = AIDf['AIDangerous'].map(AIDangerousNewValues)\n",
    "AIDf['Age'] = AIDf['Age'].map(ageNewValues)"
   ]
  },
  {
   "cell_type": "markdown",
   "metadata": {},
   "source": [
    "# Modeling\n",
    "Now, we are ready to perform the analysis to answer our three questions"
   ]
  },
  {
   "cell_type": "markdown",
   "metadata": {},
   "source": [
    "### Part 1: How do developers evaluate a job opportunity?  "
   ]
  },
  {
   "cell_type": "markdown",
   "metadata": {},
   "source": [
    "We are interested to find the most important variable that impact developers’ decision in the job hunting process. Let's analyze the 10 columns by counting the frequency at which participants chose a criterion as rank 1. Then, the most frequent criterion among these columns will be the answer to our question. "
   ]
  },
  {
   "cell_type": "code",
   "execution_count": 70,
   "metadata": {},
   "outputs": [
    {
     "data": {
      "text/html": [
       "<div>\n",
       "<style scoped>\n",
       "    .dataframe tbody tr th:only-of-type {\n",
       "        vertical-align: middle;\n",
       "    }\n",
       "\n",
       "    .dataframe tbody tr th {\n",
       "        vertical-align: top;\n",
       "    }\n",
       "\n",
       "    .dataframe thead th {\n",
       "        text-align: right;\n",
       "    }\n",
       "</style>\n",
       "<table border=\"1\" class=\"dataframe\">\n",
       "  <thead>\n",
       "    <tr style=\"text-align: right;\">\n",
       "      <th></th>\n",
       "      <th>Industry</th>\n",
       "      <th>Company Financial</th>\n",
       "      <th>Department or Team</th>\n",
       "      <th>Framework/Technologies</th>\n",
       "      <th>Compensation/Benefits</th>\n",
       "      <th>Company Culture</th>\n",
       "      <th>Working Remotely</th>\n",
       "      <th>Professional Development</th>\n",
       "      <th>Diversity</th>\n",
       "      <th>Product Impact</th>\n",
       "    </tr>\n",
       "  </thead>\n",
       "  <tbody>\n",
       "    <tr>\n",
       "      <th>1.0</th>\n",
       "      <td>0.074360</td>\n",
       "      <td>0.034351</td>\n",
       "      <td>0.055147</td>\n",
       "      <td>0.172964</td>\n",
       "      <td>0.183071</td>\n",
       "      <td>0.136105</td>\n",
       "      <td>0.102590</td>\n",
       "      <td>0.159648</td>\n",
       "      <td>0.016451</td>\n",
       "      <td>0.065313</td>\n",
       "    </tr>\n",
       "    <tr>\n",
       "      <th>2.0</th>\n",
       "      <td>0.057834</td>\n",
       "      <td>0.046607</td>\n",
       "      <td>0.077614</td>\n",
       "      <td>0.169560</td>\n",
       "      <td>0.180175</td>\n",
       "      <td>0.138061</td>\n",
       "      <td>0.087288</td>\n",
       "      <td>0.148317</td>\n",
       "      <td>0.028484</td>\n",
       "      <td>0.066060</td>\n",
       "    </tr>\n",
       "    <tr>\n",
       "      <th>3.0</th>\n",
       "      <td>0.060760</td>\n",
       "      <td>0.058909</td>\n",
       "      <td>0.089528</td>\n",
       "      <td>0.153258</td>\n",
       "      <td>0.154184</td>\n",
       "      <td>0.140688</td>\n",
       "      <td>0.089378</td>\n",
       "      <td>0.143584</td>\n",
       "      <td>0.035500</td>\n",
       "      <td>0.074211</td>\n",
       "    </tr>\n",
       "    <tr>\n",
       "      <th>4.0</th>\n",
       "      <td>0.069195</td>\n",
       "      <td>0.072763</td>\n",
       "      <td>0.099112</td>\n",
       "      <td>0.127208</td>\n",
       "      <td>0.125177</td>\n",
       "      <td>0.139598</td>\n",
       "      <td>0.097186</td>\n",
       "      <td>0.133731</td>\n",
       "      <td>0.048503</td>\n",
       "      <td>0.087542</td>\n",
       "    </tr>\n",
       "    <tr>\n",
       "      <th>5.0</th>\n",
       "      <td>0.084735</td>\n",
       "      <td>0.094439</td>\n",
       "      <td>0.109696</td>\n",
       "      <td>0.102919</td>\n",
       "      <td>0.099127</td>\n",
       "      <td>0.124311</td>\n",
       "      <td>0.099306</td>\n",
       "      <td>0.116519</td>\n",
       "      <td>0.065462</td>\n",
       "      <td>0.103486</td>\n",
       "    </tr>\n",
       "    <tr>\n",
       "      <th>6.0</th>\n",
       "      <td>0.102127</td>\n",
       "      <td>0.117190</td>\n",
       "      <td>0.117847</td>\n",
       "      <td>0.081735</td>\n",
       "      <td>0.076271</td>\n",
       "      <td>0.103516</td>\n",
       "      <td>0.102739</td>\n",
       "      <td>0.093095</td>\n",
       "      <td>0.086631</td>\n",
       "      <td>0.118848</td>\n",
       "    </tr>\n",
       "    <tr>\n",
       "      <th>7.0</th>\n",
       "      <td>0.122206</td>\n",
       "      <td>0.135881</td>\n",
       "      <td>0.122878</td>\n",
       "      <td>0.065447</td>\n",
       "      <td>0.061715</td>\n",
       "      <td>0.078167</td>\n",
       "      <td>0.098530</td>\n",
       "      <td>0.074957</td>\n",
       "      <td>0.109845</td>\n",
       "      <td>0.130372</td>\n",
       "    </tr>\n",
       "    <tr>\n",
       "      <th>8.0</th>\n",
       "      <td>0.139718</td>\n",
       "      <td>0.147585</td>\n",
       "      <td>0.124326</td>\n",
       "      <td>0.052236</td>\n",
       "      <td>0.049668</td>\n",
       "      <td>0.060835</td>\n",
       "      <td>0.094962</td>\n",
       "      <td>0.060208</td>\n",
       "      <td>0.135851</td>\n",
       "      <td>0.134612</td>\n",
       "    </tr>\n",
       "    <tr>\n",
       "      <th>9.0</th>\n",
       "      <td>0.152273</td>\n",
       "      <td>0.151750</td>\n",
       "      <td>0.117370</td>\n",
       "      <td>0.042651</td>\n",
       "      <td>0.042174</td>\n",
       "      <td>0.049175</td>\n",
       "      <td>0.103441</td>\n",
       "      <td>0.043696</td>\n",
       "      <td>0.169456</td>\n",
       "      <td>0.128014</td>\n",
       "    </tr>\n",
       "    <tr>\n",
       "      <th>10.0</th>\n",
       "      <td>0.136792</td>\n",
       "      <td>0.140524</td>\n",
       "      <td>0.086482</td>\n",
       "      <td>0.032022</td>\n",
       "      <td>0.028439</td>\n",
       "      <td>0.029544</td>\n",
       "      <td>0.124580</td>\n",
       "      <td>0.026245</td>\n",
       "      <td>0.303814</td>\n",
       "      <td>0.091543</td>\n",
       "    </tr>\n",
       "  </tbody>\n",
       "</table>\n",
       "</div>"
      ],
      "text/plain": [
       "      Industry  Company Financial  Department or Team  Framework/Technologies  \\\n",
       "1.0   0.074360  0.034351           0.055147            0.172964                 \n",
       "2.0   0.057834  0.046607           0.077614            0.169560                 \n",
       "3.0   0.060760  0.058909           0.089528            0.153258                 \n",
       "4.0   0.069195  0.072763           0.099112            0.127208                 \n",
       "5.0   0.084735  0.094439           0.109696            0.102919                 \n",
       "6.0   0.102127  0.117190           0.117847            0.081735                 \n",
       "7.0   0.122206  0.135881           0.122878            0.065447                 \n",
       "8.0   0.139718  0.147585           0.124326            0.052236                 \n",
       "9.0   0.152273  0.151750           0.117370            0.042651                 \n",
       "10.0  0.136792  0.140524           0.086482            0.032022                 \n",
       "\n",
       "      Compensation/Benefits  Company Culture  Working Remotely  \\\n",
       "1.0   0.183071               0.136105         0.102590           \n",
       "2.0   0.180175               0.138061         0.087288           \n",
       "3.0   0.154184               0.140688         0.089378           \n",
       "4.0   0.125177               0.139598         0.097186           \n",
       "5.0   0.099127               0.124311         0.099306           \n",
       "6.0   0.076271               0.103516         0.102739           \n",
       "7.0   0.061715               0.078167         0.098530           \n",
       "8.0   0.049668               0.060835         0.094962           \n",
       "9.0   0.042174               0.049175         0.103441           \n",
       "10.0  0.028439               0.029544         0.124580           \n",
       "\n",
       "      Professional Development  Diversity  Product Impact  \n",
       "1.0   0.159648                  0.016451   0.065313        \n",
       "2.0   0.148317                  0.028484   0.066060        \n",
       "3.0   0.143584                  0.035500   0.074211        \n",
       "4.0   0.133731                  0.048503   0.087542        \n",
       "5.0   0.116519                  0.065462   0.103486        \n",
       "6.0   0.093095                  0.086631   0.118848        \n",
       "7.0   0.074957                  0.109845   0.130372        \n",
       "8.0   0.060208                  0.135851   0.134612        \n",
       "9.0   0.043696                  0.169456   0.128014        \n",
       "10.0  0.026245                  0.303814   0.091543        "
      ]
     },
     "execution_count": 70,
     "metadata": {},
     "output_type": "execute_result"
    }
   ],
   "source": [
    "# For each criterion, we want to get count of all possible values\n",
    "assessJobResults = jobDf[jobSelectionColumns].apply(lambda s: s.value_counts(normalize=True))\n",
    "assessJobResults"
   ]
  },
  {
   "cell_type": "code",
   "execution_count": 73,
   "metadata": {},
   "outputs": [
    {
     "data": {
      "text/plain": [
       "Compensation/Benefits       0.183071\n",
       "Framework/Technologies      0.172964\n",
       "Professional Development    0.159648\n",
       "Company Culture             0.136105\n",
       "Working Remotely            0.102590\n",
       "Industry                    0.074360\n",
       "Product Impact              0.065313\n",
       "Department or Team          0.055147\n",
       "Company Financial           0.034351\n",
       "Diversity                   0.016451\n",
       "Name: 1.0, dtype: float64"
      ]
     },
     "execution_count": 73,
     "metadata": {},
     "output_type": "execute_result"
    }
   ],
   "source": [
    "# Get the first row that contains rank 1 occurance for each criterion\n",
    "assessJobFirstRank = assessJobResults.iloc[0]\n",
    "\n",
    "# Sort results\n",
    "assessJobFirstRank = assessJobFirstRank.sort_values(ascending=False)\n",
    "\n",
    "assessJobFirstRank"
   ]
  },
  {
   "cell_type": "code",
   "execution_count": 74,
   "metadata": {
    "scrolled": true
   },
   "outputs": [
    {
     "data": {
      "image/png": "[encoded data removed]",
      "text/plain": [
       "<Figure size 720x360 with 1 Axes>"
      ]
     },
     "metadata": {
      "needs_background": "light"
     },
     "output_type": "display_data"
    }
   ],
   "source": [
    "a4_dims = (10, 5)\n",
    "fig, ax = plt.subplots(figsize=a4_dims)\n",
    "jobPlot = sns.barplot(x = assessJobFirstRank.values, y = assessJobFirstRank.index, palette=\"Blues_d\");\n",
    "jobPlot.set(xlabel='Percentage (%)');\n",
    "jobPlot.set_title(\"How do deveoplers evalute a job opportunity?\");"
   ]
  },
  {
   "cell_type": "markdown",
   "metadata": {},
   "source": [
    "Our analysis revealed that 18% of the survey respondents prioritized compensation and benefits over other aspects when evaluating a job opportunity. This finding has a huge business value for HR recruiters. Remarkably, the second in the list is the programming language and framework with almost 17% of the developers choosing this as their top criteria. \n",
    "\n",
    "Of course, this analysis can be improved further by segmenting the data (i.e. filtering by age, gender or other variables) in order to eliminate some of the biases. "
   ]
  },
  {
   "cell_type": "markdown",
   "metadata": {},
   "source": [
    "### Part 2: Do developers working in small and large companies have the same  career goals?  "
   ]
  },
  {
   "cell_type": "markdown",
   "metadata": {},
   "source": [
    "In this part, we first group the dataframe by \"CompanySize\". Then, we find the value counts for \"HopeFiveYears\". Since the same task will be performed for the next part, we will create a function"
   ]
  },
  {
   "cell_type": "code",
   "execution_count": 80,
   "metadata": {},
   "outputs": [],
   "source": [
    "# This function is helpful in analyzing whether two variables are correlated\n",
    "def getCountForGroupedDf(df, groupByColumn, countColumn):\n",
    "    '''\n",
    "    INPUT - df - dataframe - pandas dataframe of the original dataset \n",
    "            groupByColumn - string - the name of the column you want to group by\n",
    "            countColumn - string - the name of the column you want to count its values\n",
    "    OUTPUT - \n",
    "            groupedDfCounts - dataframe - pandas dataframe with the value counts of the grouped dataframe\n",
    "    '''\n",
    "    valueCountsResults = df.groupby(groupByColumn)[countColumn].value_counts(normalize=True)\n",
    "    groupedDfCounts = pd.DataFrame(data={'Percentage (%)': valueCountsResults.values}, index=valueCountsResults.index).reset_index()\n",
    "    return groupedDfCounts"
   ]
  },
  {
   "cell_type": "code",
   "execution_count": 81,
   "metadata": {},
   "outputs": [
    {
     "data": {
      "text/html": [
       "<div>\n",
       "<style scoped>\n",
       "    .dataframe tbody tr th:only-of-type {\n",
       "        vertical-align: middle;\n",
       "    }\n",
       "\n",
       "    .dataframe tbody tr th {\n",
       "        vertical-align: top;\n",
       "    }\n",
       "\n",
       "    .dataframe thead th {\n",
       "        text-align: right;\n",
       "    }\n",
       "</style>\n",
       "<table border=\"1\" class=\"dataframe\">\n",
       "  <thead>\n",
       "    <tr style=\"text-align: right;\">\n",
       "      <th></th>\n",
       "      <th>CompanySize</th>\n",
       "      <th>HopeFiveYears</th>\n",
       "      <th>Percentage (%)</th>\n",
       "    </tr>\n",
       "  </thead>\n",
       "  <tbody>\n",
       "    <tr>\n",
       "      <th>0</th>\n",
       "      <td>&lt;10</td>\n",
       "      <td>Becoming a Founder/CEO</td>\n",
       "      <td>0.299390</td>\n",
       "    </tr>\n",
       "    <tr>\n",
       "      <th>1</th>\n",
       "      <td>&lt;10</td>\n",
       "      <td>Working in different/more technical role</td>\n",
       "      <td>0.291038</td>\n",
       "    </tr>\n",
       "    <tr>\n",
       "      <th>2</th>\n",
       "      <td>&lt;10</td>\n",
       "      <td>Doing same work</td>\n",
       "      <td>0.217796</td>\n",
       "    </tr>\n",
       "    <tr>\n",
       "      <th>3</th>\n",
       "      <td>&lt;10</td>\n",
       "      <td>Becoming a product/project manager</td>\n",
       "      <td>0.074366</td>\n",
       "    </tr>\n",
       "    <tr>\n",
       "      <th>4</th>\n",
       "      <td>&lt;10</td>\n",
       "      <td>Becoming an engineering manager</td>\n",
       "      <td>0.067780</td>\n",
       "    </tr>\n",
       "  </tbody>\n",
       "</table>\n",
       "</div>"
      ],
      "text/plain": [
       "  CompanySize                             HopeFiveYears  Percentage (%)\n",
       "0  <10         Becoming a Founder/CEO                    0.299390      \n",
       "1  <10         Working in different/more technical role  0.291038      \n",
       "2  <10         Doing same work                           0.217796      \n",
       "3  <10         Becoming a product/project manager        0.074366      \n",
       "4  <10         Becoming an engineering manager           0.067780      "
      ]
     },
     "execution_count": 81,
     "metadata": {},
     "output_type": "execute_result"
    }
   ],
   "source": [
    "# Calcluate the frequency of each future goal response for every company size\n",
    "HopeResultDf = getCountForGroupedDf(HopeDf, \"CompanySize\", \"HopeFiveYears\")\n",
    "HopeResultDf.head()\n"
   ]
  },
  {
   "cell_type": "code",
   "execution_count": 82,
   "metadata": {},
   "outputs": [
    {
     "name": "stderr",
     "output_type": "stream",
     "text": [
      "C:\\Anaconda3\\lib\\site-packages\\seaborn\\categorical.py:3692: UserWarning: The `size` paramter has been renamed to `height`; please update your code.\n",
      "  warnings.warn(msg, UserWarning)\n"
     ]
    },
    {
     "data": {
      "image/png": "[encoded data removed]",
      "text/plain": [
       "<Figure size 884.25x432 with 1 Axes>"
      ]
     },
     "metadata": {
      "needs_background": "light"
     },
     "output_type": "display_data"
    }
   ],
   "source": [
    "hopePlot = sns.catplot(x=\"CompanySize\", y=\"Percentage (%)\", hue=\"HopeFiveYears\",\n",
    "            kind=\"bar\", data=HopeResultDf, size=6, aspect=1.5);\n",
    "hopePlot.set(xlabel='Company Size (# Employees)');\n",
    "hopePlot.fig.suptitle(\"Developers' Goals For the Next Five Years\");\n",
    "hopePlot._legend.set_title(\"Future goals\")"
   ]
  },
  {
   "cell_type": "markdown",
   "metadata": {},
   "source": [
    "The most apparent correlation with the company size are shown in the following goals:\n",
    "- Becoming a CEO (Blue)\n",
    "- Working in a different or more technical role (Orange)\n",
    "- Doing same work (Green)\n",
    "\n",
    "Note, my definition of a small company is a one with less than 100 employees while a large company's size is more than 1000 employees.\n",
    "\n",
    "It appears that 25-30% of developers in small companies dream of starting their own companies compared to 16–18% of developers in large companies. On the other hand, more than 35% of developers in large companies are looking for a different role."
   ]
  },
  {
   "cell_type": "markdown",
   "metadata": {},
   "source": [
    "### Part 3: Does a developer's age affect how they view AI risks?"
   ]
  },
  {
   "cell_type": "code",
   "execution_count": 83,
   "metadata": {},
   "outputs": [
    {
     "data": {
      "text/html": [
       "<div>\n",
       "<style scoped>\n",
       "    .dataframe tbody tr th:only-of-type {\n",
       "        vertical-align: middle;\n",
       "    }\n",
       "\n",
       "    .dataframe tbody tr th {\n",
       "        vertical-align: top;\n",
       "    }\n",
       "\n",
       "    .dataframe thead th {\n",
       "        text-align: right;\n",
       "    }\n",
       "</style>\n",
       "<table border=\"1\" class=\"dataframe\">\n",
       "  <thead>\n",
       "    <tr style=\"text-align: right;\">\n",
       "      <th></th>\n",
       "      <th>Age</th>\n",
       "      <th>AIDangerous</th>\n",
       "      <th>Percentage (%)</th>\n",
       "    </tr>\n",
       "  </thead>\n",
       "  <tbody>\n",
       "    <tr>\n",
       "      <th>0</th>\n",
       "      <td>(&lt;18)</td>\n",
       "      <td>The Singularity</td>\n",
       "      <td>0.391724</td>\n",
       "    </tr>\n",
       "    <tr>\n",
       "      <th>1</th>\n",
       "      <td>(&lt;18)</td>\n",
       "      <td>Automation</td>\n",
       "      <td>0.249655</td>\n",
       "    </tr>\n",
       "    <tr>\n",
       "      <th>2</th>\n",
       "      <td>(&lt;18)</td>\n",
       "      <td>Decision Making</td>\n",
       "      <td>0.198621</td>\n",
       "    </tr>\n",
       "    <tr>\n",
       "      <th>3</th>\n",
       "      <td>(&lt;18)</td>\n",
       "      <td>Fairness</td>\n",
       "      <td>0.160000</td>\n",
       "    </tr>\n",
       "    <tr>\n",
       "      <th>4</th>\n",
       "      <td>(18-24)</td>\n",
       "      <td>The Singularity</td>\n",
       "      <td>0.316417</td>\n",
       "    </tr>\n",
       "  </tbody>\n",
       "</table>\n",
       "</div>"
      ],
      "text/plain": [
       "       Age      AIDangerous  Percentage (%)\n",
       "0   (<18)   The Singularity  0.391724      \n",
       "1   (<18)   Automation       0.249655      \n",
       "2   (<18)   Decision Making  0.198621      \n",
       "3   (<18)   Fairness         0.160000      \n",
       "4  (18-24)  The Singularity  0.316417      "
      ]
     },
     "execution_count": 83,
     "metadata": {},
     "output_type": "execute_result"
    }
   ],
   "source": [
    "# We want to see how each age group view AI risks. Let's calcluate the frequency of each AI risk response for every age group.\n",
    "AIResultDf = getCountForGroupedDf(AIDf, \"Age\", \"AIDangerous\")\n",
    "AIResultDf.head()"
   ]
  },
  {
   "cell_type": "code",
   "execution_count": 84,
   "metadata": {},
   "outputs": [
    {
     "name": "stderr",
     "output_type": "stream",
     "text": [
      "C:\\Anaconda3\\lib\\site-packages\\seaborn\\categorical.py:3692: UserWarning: The `size` paramter has been renamed to `height`; please update your code.\n",
      "  warnings.warn(msg, UserWarning)\n"
     ]
    },
    {
     "data": {
      "image/png": "[encoded data removed]",
      "text/plain": [
       "<Figure size 751.6x396 with 1 Axes>"
      ]
     },
     "metadata": {
      "needs_background": "light"
     },
     "output_type": "display_data"
    }
   ],
   "source": [
    "AIPlot = sns.catplot(x=\"Age\", y=\"Percentage (%)\", hue=\"AIDangerous\",\n",
    "            markers=[\"^\", \"o\", \"s\", \"x\"], linestyles=[\"-\", \"--\", \"-.\", \":\"],\n",
    "            kind=\"point\", data=AIResultDf, size=5.5, aspect=1.6);\n",
    "\n",
    "AIPlot.fig.suptitle(\"AI Most Dangerous Aspect by Age Group\")\n",
    "AIPlot._legend.set_title(\"AI dangers\")"
   ]
  },
  {
   "cell_type": "markdown",
   "metadata": {},
   "source": [
    "The chart above shows that most young developers feared singularity the most. Surprisingly, this fear is diminishing among senior developers and is shifting toward decision making. Perhaps, senior developers have experience in management and leadership which allows them to appreciate the importance of decision making."
   ]
  },
  {
   "cell_type": "code",
   "execution_count": null,
   "metadata": {},
   "outputs": [],
   "source": []
  }
 ],
 "metadata": {
  "kernelspec": {
   "display_name": "Python 3",
   "language": "python",
   "name": "python3"
  },
  "language_info": {
   "codemirror_mode": {
    "name": "ipython",
    "version": 3
   },
   "file_extension": ".py",
   "mimetype": "text/x-python",
   "name": "python",
   "nbconvert_exporter": "python",
   "pygments_lexer": "ipython3",
   "version": "3.7.1"
  }
 },
 "nbformat": 4,
 "nbformat_minor": 2
}
